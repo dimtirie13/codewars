{
 "cells": [
  {
   "cell_type": "code",
   "execution_count": 75,
   "metadata": {},
   "outputs": [],
   "source": [
    "def digit_root_function(n): \n",
    "    return (n - 1) % 9 + 1"
   ]
  },
  {
   "cell_type": "code",
   "execution_count": 76,
   "metadata": {},
   "outputs": [
    {
     "data": {
      "text/plain": [
       "4"
      ]
     },
     "execution_count": 76,
     "metadata": {},
     "output_type": "execute_result"
    }
   ],
   "source": [
    "digit_root_function(112)"
   ]
  },
  {
   "cell_type": "code",
   "execution_count": 79,
   "metadata": {},
   "outputs": [],
   "source": [
    "# takes int > 1 and returns an array with all teh integer's divisors besides 1 and the number\n",
    "# order from small to large\n",
    "# if number if prime return the prime\n",
    "\n",
    "def get_divisors(integer):\n",
    "    divs = []\n",
    "    if integer > 1:\n",
    "        for i in range(2,integer):\n",
    "            if (integer % i) ==0:\n",
    "                divs.append(integer//i)\n",
    "\n",
    "    if len(divs) == 0:\n",
    "        return \"{} is prime\".format(integer)\n",
    "    else:\n",
    "        return sorted(divs)\n",
    "\n"
   ]
  },
  {
   "cell_type": "markdown",
   "metadata": {},
   "source": [
    "Your task is to make a function that can take any non-negative integer as a argument and return it with its digits in descending order. Essentially, rearrange the digits to create the highest possible number.\n",
    "\n",
    "Examples:\n",
    "\n",
    "Input: 21445 Output: 54421\n",
    "\n",
    "Input: 145263 Output: 654321\n",
    "\n",
    "Input: 123456789 Output: 987654321"
   ]
  },
  {
   "cell_type": "code",
   "execution_count": 93,
   "metadata": {},
   "outputs": [],
   "source": [
    "def descending_order(num):\n",
    "    desc = \"\".join(sorted(str(number))[::-1])\n",
    "    return int(desc)"
   ]
  },
  {
   "cell_type": "markdown",
   "metadata": {},
   "source": [
    "A square of squares\n",
    "\n",
    "You like building blocks. You especially like building blocks that are squares. And what you even like more, is to arrange them into a square of square building blocks!\n",
    "\n",
    "However, sometimes, you can't arrange them into a square. Instead, you end up with an ordinary rectangle! Those blasted things! If you just had a way to know, whether you're currently working in vain… Wait! That's it! You just have to check if your number of building blocks is a perfect square.\n",
    "\n",
    "Task\n",
    "\n",
    "Given an integral number, determine if it's a square number:\n",
    "\n",
    "In mathematics, a square number or perfect square is an integer that is the square of an integer; in other words, it is the product of some integer with itself.\n",
    "The tests will always use some integral number, so don't worry about that in dynamic typed languages.\n",
    "\n",
    "Examples\n",
    "\n",
    "isSquare(-1) returns  false\n",
    "isSquare(0) returns   true\n",
    "isSquare(3) returns   false\n",
    "isSquare(4) returns   true\n",
    "isSquare(25) returns  true  \n",
    "isSquare(26) returns  false"
   ]
  },
  {
   "cell_type": "code",
   "execution_count": 302,
   "metadata": {},
   "outputs": [],
   "source": [
    "def is_squaren(n):\n",
    "    sqrt = n**0.5\n",
    "    return True if len(str(sqrt).split('.')[1]) == 1 else False"
   ]
  },
  {
   "cell_type": "code",
   "execution_count": 23,
   "metadata": {},
   "outputs": [],
   "source": [
    "def came_case(word):\n",
    "\n",
    "    # check character by which to split on\n",
    "    chars = ['-', '_']\n",
    "    cap_list = []\n",
    "    for x in chars:\n",
    "        if x in word:\n",
    "            word = word.split(x)\n",
    "            \n",
    "    # append capitalized words\n",
    "    cap_list = []\n",
    "    for i in word[1:]:\n",
    "        cap_list.append(i.capitalize())\n",
    "    return word[0] + \"\".join(cap_list)"
   ]
  },
  {
   "cell_type": "code",
   "execution_count": 27,
   "metadata": {},
   "outputs": [
    {
     "data": {
      "text/plain": [
       "'theRedWord'"
      ]
     },
     "execution_count": 27,
     "metadata": {},
     "output_type": "execute_result"
    }
   ],
   "source": [
    "came_case('the-Red-word')"
   ]
  },
  {
   "cell_type": "code",
   "execution_count": 42,
   "metadata": {},
   "outputs": [
    {
     "name": "stdout",
     "output_type": "stream",
     "text": [
      "theRedApple\n"
     ]
    }
   ],
   "source": [
    "print(word_list[0] + \"\".join(cap_list))"
   ]
  },
  {
   "cell_type": "markdown",
   "metadata": {},
   "source": [
    "Count the number of Duplicates\n",
    "\n",
    "Write a function that will return the count of distinct case-insensitive alphabetic characters and numeric digits that occur more than once in the input string. The input string can be assumed to contain only alphabets (both uppercase and lowercase) and numeric digits.\n",
    "\n",
    "Example\n",
    "\n",
    " - \"abcde\" -> 0 # no characters repeats more than once\n",
    " - \"aabbcde\" -> 2 # 'a' and 'b'\n",
    " - \"aabBcde\" -> 2 # 'a' occurs twice and 'b' twice (`b` and `B`)\n",
    " - \"indivisibility\" -> 1 # 'i' occurs six times\n",
    " - \"Indivisibilities\" -> 2 # 'i' occurs seven times and 's' occurs twice\n",
    " - \"aA11\" -> 2 # 'a' and '1'\n",
    " - \"ABBA\" -> 2 # 'A' and 'B' each occur twice"
   ]
  },
  {
   "cell_type": "markdown",
   "metadata": {},
   "source": [
    "count and return the max number of string and int occurances \n",
    "\n",
    "0 if none repeated \n",
    "\n",
    "iterate over string \n",
    "\n",
    "\n"
   ]
  },
  {
   "cell_type": "code",
   "execution_count": 156,
   "metadata": {},
   "outputs": [],
   "source": [
    "def duplicate_count(text):\n",
    "    \n",
    "    count_dict = {}\n",
    "\n",
    "    # create counter dictionary \n",
    "    for i in text.lower():\n",
    "        count_dict[i] = count_dict.get(i,0)+1\n",
    "\n",
    "    # create a dict with repeated values greater than 1\n",
    "    short_dict = {k:v for (k,v) in count_dict.items() if v > 1}\n",
    "    # return len() of dict as the count of the most repeated character\n",
    "    return len(short_dict)\n",
    "\n",
    "\n",
    "## BETTER SOLUTION\n",
    "def dup_count(text):\n",
    "    return len([c for c in set(text.lower()) if text.lower().count(c)>1])\n"
   ]
  },
  {
   "cell_type": "code",
   "execution_count": 162,
   "metadata": {},
   "outputs": [
    {
     "name": "stdout",
     "output_type": "stream",
     "text": [
      "2\n",
      "3\n"
     ]
    }
   ],
   "source": [
    "print(duplicate_count('ABBA'))\n",
    "print(duplicate_count('AabbcdeE'))"
   ]
  },
  {
   "cell_type": "code",
   "execution_count": 163,
   "metadata": {},
   "outputs": [
    {
     "name": "stdout",
     "output_type": "stream",
     "text": [
      "2\n",
      "3\n"
     ]
    }
   ],
   "source": [
    "print(dup_count('ABBA'))\n",
    "print(dup_count('AabbcdeE'))"
   ]
  },
  {
   "cell_type": "markdown",
   "metadata": {},
   "source": [
    "Complete the solution so that it splits the string into pairs of two characters. If the string contains an odd number of characters then it should replace the missing second character of the final pair with an underscore ('_').\n",
    "\n",
    "Examples:\n",
    "\n",
    " - solution('abc') # should return ['ab', 'c_']\n",
    " - solution('abcdef') # should return ['ab', 'cd', 'ef']"
   ]
  },
  {
   "cell_type": "code",
   "execution_count": 242,
   "metadata": {},
   "outputs": [],
   "source": [
    "def split_string(s):\n",
    "    pair_list = []\n",
    "    \n",
    "    if len(s) % 2:\n",
    "        s += '_'\n",
    "    for i in range(0, len(s), 2):\n",
    "        pair_list.append(s[i:i+2])\n",
    "    return pair_list\n",
    "    "
   ]
  },
  {
   "cell_type": "code",
   "execution_count": 246,
   "metadata": {},
   "outputs": [
    {
     "name": "stdout",
     "output_type": "stream",
     "text": [
      "['a_']\n",
      "['ab', 'cd']\n",
      "['ab', 'cd', 'ef', 'g_']\n"
     ]
    }
   ],
   "source": [
    "print(split_string('a'))\n",
    "print(split_string('abcd'))\n",
    "print(split_string('abcdefg'))"
   ]
  },
  {
   "cell_type": "code",
   "execution_count": null,
   "metadata": {},
   "outputs": [],
   "source": []
  },
  {
   "cell_type": "code",
   "execution_count": null,
   "metadata": {},
   "outputs": [],
   "source": []
  }
 ],
 "metadata": {
  "kernelspec": {
   "display_name": "Python 3",
   "language": "python",
   "name": "python3"
  },
  "language_info": {
   "codemirror_mode": {
    "name": "ipython",
    "version": 3
   },
   "file_extension": ".py",
   "mimetype": "text/x-python",
   "name": "python",
   "nbconvert_exporter": "python",
   "pygments_lexer": "ipython3",
   "version": "3.7.6"
  }
 },
 "nbformat": 4,
 "nbformat_minor": 4
}
